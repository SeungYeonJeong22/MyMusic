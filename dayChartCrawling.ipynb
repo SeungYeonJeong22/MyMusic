{
 "cells": [
  {
   "cell_type": "code",
   "execution_count": 1,
   "id": "lasting-brother",
   "metadata": {},
   "outputs": [],
   "source": [
    "from selenium import webdriver\n",
    "from bs4 import BeautifulSoup\n",
    "from datetime import datetime\n",
    "import pandas as pd\n",
    "import time\n",
    "import os\n",
    "import re\n"
   ]
  },
  {
   "cell_type": "code",
   "execution_count": 2,
   "id": "brilliant-audience",
   "metadata": {},
   "outputs": [
    {
     "name": "stdout",
     "output_type": "stream",
     "text": [
      "driver.quit() 완료\n",
      "{'no': [1, 2, 3, 4, 5, 6, 7, 8, 9, 10, 11, 12, 13, 14, 15, 16, 17, 18, 19, 20, 21, 22, 23, 24, 25, 26, 27, 28, 29, 30, 31, 32, 33, 34, 35, 36, 37, 38, 39, 40, 41, 42, 43, 44, 45, 46, 47, 48, 49, 50, 51, 52, 53, 54, 55, 56, 57, 58, 59, 60, 61, 62, 63, 64, 65, 66, 67, 68, 69, 70, 71, 72, 73, 74, 75, 76, 77, 78, 79, 80, 81, 82, 83, 84, 85, 86, 87, 88, 89, 90, 91, 92, 93, 94, 95, 96, 97, 98, 99, 100], 'title': ['바라만 본다', 'Next Level', '신호등', 'Permission to Dance', 'Butter', 'Weekend', '헤픈 우연', '치맛바람 (Chi Mat Ba Ram)', 'Dun Dun Dance', 'Peaches (Feat. Daniel Caesar & Giveon)', '나를 아는 사람', \"롤린 (Rollin')\", 'Alcohol-Free', 'Dynamite', '라일락', 'ASAP', '좋아좋아', '비와 당신', '하루만 더', '안녕 (Hello)', 'Celebrity', '운전만해 (We Ride)', '상상더하기', '사이렌 Remix (Feat. UNEDUCATED KID, Paul Blanco)', '상상더하기', 'Timeless', '멜로디', '내 손을 잡아', '밝게 빛나는 별이 되어 비춰줄게', '넌 좋은 사람', 'Savage Love (Laxed - Siren Beat) (BTS Remix)', 'OHAYO MY NIGHT', '밤하늘의 별을(2020)', '작은 것들을 위한 시 (Boy With Luv) (Feat. Halsey)', '라라라', '고백', 'Lovesick Girls', '난 너를 사랑해', 'LOVE DAY (2021) (바른연애 길잡이 X 양요섭, 정은지)', '비 오는 날 듣기 좋은 노래 (Feat. Colde)', 'Dolphin', '잠이 오질 않네요', '추억은 만남보다 이별에 남아', '마.피.아. In the morning', '에잇(Prod.&Feat. SUGA of BTS)', 'Blueming', '취기를 빌려 (취향저격 그녀 X 산들)', 'Life Goes On', '아로하', '다정히 내 이름을 부르면', '봄날', '어떻게 이별까지 사랑하겠어, 널 사랑하는 거지', '내사람', 'Off My Face', 'Coin', '2002', '어푸 (Ah puh)', 'VVS (Feat. JUSTHIS) (Prod. GroovyRoom)', 'On The Ground', '가을 우체국 앞에서', 'METEOR', '그날에 나는 맘이 편했을까', '12:45 (Stripped)', '흔들리는 꽃들 속에서 네 샴푸향이 느껴진거야', '나랑 같이 걸을래 (바른연애 길잡이 X 적재)', '다시 사랑할 수 있을까', '모든 날, 모든 순간 (Every day, Every Moment)', '러브(Prod.로코베리)', '어떻게 지내 (Prod. By VAN.C)', '너의 번호를 누르고 (Prod. 영화처럼)', '허리춤', '오래된 노래', 'Memories', 'Bad Habits', '살짝 설렜어 (Nonstop)', '오늘도 빛나는 너에게 (To You My Light) (Feat.이라온)', '나는 너 좋아', '지금 말해볼게요 (낮에 뜨는 달 X 거미)', '이제 나만 믿어요', '체념', '늦은 밤 너의 집 앞 골목길에서', '사실 나는 (Feat.전건호)', '그냥 안아달란 말야', 'How You Like That', '이 밤을 빌려 말해요 (바른연애 길잡이 X 10CM)', 'Way Back Home (2021)', '추적이는 여름 비가 되어', '한여름밤의 꿀 : 다시 여름', 'Dance Monkey', '힘든 건 사랑이 아니다', '이렇게 좋아해 본 적이 없어요', '너의 발걸음에 빛을 비춰줄게 (Prod. 조영수)', '살다가', 'Paris In The Rain', '마음을 드려요', \"Don't Start Now\", '너를 만나', 'Love poem', '오늘따라 더 미운 그대가', '잡아줄게 (Carabiner)'], 'artist': ['MSG워너비(M.O.M)', 'aespa', '이무진', '방탄소년단', '방탄소년단', '태연 (TAEYEON)', '헤이즈 (Heize)', '브레이브걸스', '오마이걸 (OH MY GIRL)', 'Justin Bieber', 'MSG워너비(정상동기)', '브레이브걸스', 'TWICE (트와이스)', '방탄소년단', '아이유', 'STAYC(스테이씨)', '조정석', '이무진', '빅마마', '조이 (JOY)', '아이유', '브레이브걸스', 'MSG워너비 TOP 8 (별루지, 김정수, 강창모, 정기석, 이동휘, 이상이, 박재정, 원슈타인)', '호미들', '라붐 (LABOUM)', 'SG 워너비', 'ASH ISLAND', '아이유', '송이한', 'SG 워너비', 'Jawsh 685', '디핵 (D-Hack)', '경서', '방탄소년단', 'SG 워너비', '장범준', 'BLACKPINK', 'MSG워너비', '양요섭', '에픽하이 (EPIK HIGH)', '오마이걸 (OH MY GIRL)', '장범준', '정동하', 'ITZY (있지)', '아이유', '아이유', '산들', '방탄소년단', '조정석', '경서예지', '방탄소년단', 'AKMU (악동뮤지션)', 'SG 워너비', 'Justin Bieber', '아이유', 'Anne-Marie', '아이유', '미란이 (Mirani)', '로제 (ROSÉ)', '김대명', '창모 (CHANGMO)', '이예준', 'Etham', '장범준', '적재', '백지영', '폴킴', '로꼬', '오반 (OVAN)', '#안녕', '오반 (OVAN)', '스탠딩 에그', 'Maroon 5', 'Ed Sheeran', '오마이걸 (OH MY GIRL)', '마크툽 (MAKTUB)', '장범준', '거미', '임영웅', 'MSG워너비(정상동기)', '노을', '경서예지', '다비치', 'BLACKPINK', '10CM', '런치', '장범준', 'San E', 'Tones And I', '임창정', 'CHEEZE (치즈)', '케이시 (Kassy)', 'SG 워너비', 'Lauv', '아이유', 'Dua Lipa', '폴킴', '아이유', '전상근', 'ASH ISLAND'], 'genre': ['발라드', '댄스', '록/메탈', '댄스', '댄스', '댄스', 'R&B/Soul', '댄스', '댄스', 'POP', '발라드', '댄스, R&B/Soul', '댄스, R&B/Soul', '댄스', '댄스, 발라드, R&B/Soul', '댄스, R&B/Soul, 록/메탈, 일렉트로니카', '국내드라마, 발라드', '국내드라마, 록/메탈', '발라드', '발라드, R&B/Soul, 록/메탈', '댄스, 발라드, R&B/Soul', '댄스', '발라드, 댄스', '랩/힙합', '댄스, 발라드', '발라드', '랩/힙합', '발라드, 국내드라마', 'R&B/Soul', '발라드', 'POP', '랩/힙합', '발라드', '랩/힙합, R&B/Soul, 댄스', '발라드, 댄스', '록/메탈', '댄스, 랩/힙합, R&B/Soul', '발라드', '댄스', '랩/힙합', '댄스, 발라드', '발라드', '발라드', '랩/힙합, 댄스', '록/메탈', '록/메탈', '발라드', '랩/힙합, 댄스, 발라드, R&B/Soul', '국내드라마, 발라드', '발라드', '랩/힙합, 발라드', '발라드, 록/메탈, 포크/블루스', 'R&B/Soul', 'POP', '댄스, 발라드, R&B/Soul', 'POP', '댄스, 발라드, R&B/Soul', '랩/힙합', '록/메탈, 포크/블루스', '국내드라마, 발라드', '랩/힙합', '발라드', 'POP', '국내드라마, 록/메탈', '발라드, 인디음악', '발라드', '발라드, 국내드라마', '랩/힙합', '랩/힙합, 인디음악', '발라드, 인디음악', '랩/힙합, 인디음악', '포크/블루스, 인디음악', 'POP', 'POP', '댄스, 발라드', 'R&B/Soul, 인디음악', '국내드라마, 록/메탈', '발라드', '성인가요', '발라드, 댄스', '발라드', '발라드', '발라드', '댄스', '발라드', '일렉트로니카', '발라드, 록/메탈', '랩/힙합', 'POP', '발라드, 댄스', '발라드, 인디음악', '발라드', '발라드', 'POP', '국내드라마, 발라드', 'POP', '발라드', '록/메탈', '발라드', '랩/힙합']}\n"
     ]
    }
   ],
   "source": [
    "driver = webdriver.Chrome('./chromedriver.exe')\n",
    "driver.implicitly_wait(2)\n",
    "driver.get('https://www.melon.com/chart/day/index.htm')\n",
    "\n",
    "html = driver.page_source\n",
    "soup = BeautifulSoup(html,'html.parser')\n",
    "\n",
    "try:\n",
    "    trs = soup.select('tr')\n",
    "    d = {}\n",
    "    lidx = []\n",
    "    ltitle = []\n",
    "    lartist = []\n",
    "    lgenre = []\n",
    "    for idx,tr in enumerate(trs[1:]):\n",
    "        #장르 확인\n",
    "        driver.find_element_by_xpath('//html/body/div/div[3]/div/div/div[4]/form/div/table/tbody/tr[{}]/td[7]/div/div/div/a'.format(idx+1)).click()\n",
    "        genre = driver.find_element_by_xpath('//*[@id=\"conts\"]/div[2]/div/div[2]/div[2]/dl/dd[2]').text\n",
    "\n",
    "        driver.back()\n",
    "        time.sleep(0.5)\n",
    "        \n",
    "        \n",
    "\n",
    "        title = driver.find_element_by_xpath('//html/body/div/div[3]/div/div/div[4]/form/div/table/tbody/tr[{}]/td[6]/div/div/div[1]/span/a'.format(idx+1)).text.strip()\n",
    "        artist = driver.find_element_by_xpath('//html/body/div/div[3]/div/div/div[4]/form/div/table/tbody/tr[{}]/td[6]/div/div/div[2]/a'.format(idx+1)).text.strip()\n",
    "        \n",
    "        lidx.append(idx+1)        #순번\n",
    "        ltitle.append(title)      #제목\n",
    "        lartist.append(artist)    #가수\n",
    "        lgenre.append(genre)      #장르\n",
    "\n",
    "    d['no'] = lidx\n",
    "    d['title'] = ltitle\n",
    "    d['artist'] = lartist\n",
    "    d['genre'] = lgenre\n",
    "\n",
    "    column = ['no','title','artist','genre']\n",
    "except Exception as e:\n",
    "    print(e)\n",
    "finally:\n",
    "    driver.quit()\n",
    "    print('driver.quit() 완료')    \n",
    "    \n",
    "print(d)"
   ]
  },
  {
   "cell_type": "code",
   "execution_count": 3,
   "id": "fantastic-hardware",
   "metadata": {},
   "outputs": [],
   "source": [
    "today = datetime.today()\n",
    "today = today.strftime(\"%Y%m%d\")\n",
    "d = pd.DataFrame(d)\n",
    "d.set_index('no',inplace=True)\n",
    "\n",
    "if 'DayChart' in os.listdir():\n",
    "    d.to_csv('./DayChart/' + today+'.csv')\n",
    "else:\n",
    "    os.mkdir('./DayChart')"
   ]
  },
  {
   "cell_type": "code",
   "execution_count": null,
   "id": "supported-softball",
   "metadata": {},
   "outputs": [],
   "source": []
  }
 ],
 "metadata": {
  "kernelspec": {
   "display_name": "melon",
   "language": "python",
   "name": "melon"
  },
  "language_info": {
   "codemirror_mode": {
    "name": "ipython",
    "version": 3
   },
   "file_extension": ".py",
   "mimetype": "text/x-python",
   "name": "python",
   "nbconvert_exporter": "python",
   "pygments_lexer": "ipython3",
   "version": "3.9.2"
  }
 },
 "nbformat": 4,
 "nbformat_minor": 5
}
