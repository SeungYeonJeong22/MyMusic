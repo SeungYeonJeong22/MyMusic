{
 "cells": [
  {
   "cell_type": "markdown",
   "id": "missing-columbia",
   "metadata": {},
   "source": [
    "<h1>전체 장르 다듬기</h1>"
   ]
  },
  {
   "cell_type": "code",
   "execution_count": 1,
   "id": "advanced-celebrity",
   "metadata": {},
   "outputs": [],
   "source": [
    "from selenium import webdriver\n",
    "from bs4 import BeautifulSoup\n",
    "import pandas as pd\n",
    "import re\n",
    "import time"
   ]
  },
  {
   "cell_type": "code",
   "execution_count": 2,
   "id": "swedish-indonesian",
   "metadata": {},
   "outputs": [
    {
     "name": "stdout",
     "output_type": "stream",
     "text": [
      "['영어동화', 'Urban', '트로트', '포크/블루스', '뉴메탈/하드코어', '언더그라운드힙합', '인디음악', '국외CCM', '교향곡', 'Bop', '얼터너티브록', '자장가', 'R&B/Soul', '록스타일', '연주곡', '국악', '실내악', '얼터너티브팝', '풍물/사물놀이', '국외드라마', '하드록', '워십', '국내CCM', '전설의트로트', '블루스', '국내영화', '어린이클래식', '뉴에이지기타', '포스트록', '라틴', '록/메탈', '만화', '프로그레시브/아트록', '전래동요', '팝랩', '보컬재즈', '가톨릭음악', '독주곡', '관현악', '탱고/플라멩코', '보사노바', '뉴에이지피아노', '어린이', '명작동화', '신세대트로트', 'J-POP', '클럽뮤직', '애니메이션/게임', 'J-Jazz', '재즈', '월드뮤직', '국외뮤지컬', '포크', '칸초네', '기능성음악', '성가', '현대음악', '창작동화', '이지리스닝', '샹송', 'Soul', '뉴에이지', '일렉트로니카', '발레/무용곡', '중국음악', '국내드라마', '일렉트로닉스타일', '종교음악', '포크/블루스/컨트리', '하우스', '어쿠스틱스타일', '뽕짝트로트', '크로스오버', '얼터너티브힙합', 'CCM', 'POP', '판소리/단가', 'East&West', '랩/힙합', '교과서동요', '클래식', 'OST', '민요', '록', '국외영화', '성악/합창곡', '창작동요', '헤비메탈', '파두', '애시드/팝재즈', '불교음악', '모던록', '브라질', '발라드', '협주곡', 'R&B', '댄스', '올디스', '레게', '트로트메들리', '시대별 작곡가', '영어동요', '빅밴드/스윙', '라틴재즈', '찬송가', '갱스터/하드코어랩', '월드팝', 'J-Newage', '켈틱/아이리시', '태교', '어린이/태교', '시부야케이', '국내뮤지컬', '오페라', '국악가요', '컨트리']\n",
      "driver.quit() 완료\n"
     ]
    }
   ],
   "source": [
    "options = webdriver.ChromeOptions()\n",
    "driver = webdriver.Chrome('./chromedriver')\n",
    "driver.implicitly_wait(2)\n",
    "driver.get('https://www.melon.com/')\n",
    "\n",
    "\n",
    "try:\n",
    "    driver.find_element_by_link_text('장르 음악').click()\n",
    "    time.sleep(0.5)\n",
    "\n",
    "    Category = driver.find_element_by_xpath('//*[@id=\"gnb_menu\"]/ul[1]/li[3]/div/ul').text.split('\\n')\n",
    "    Category = [Category for Category in Category]\n",
    "    \n",
    "    all_genre = []\n",
    "    \n",
    "    for cat in Category:\n",
    "        driver.find_element_by_link_text(cat).click()\n",
    "    \n",
    "        genre = driver.find_element_by_xpath('//*[@id=\"conts\"]/div[2]/ul').text.split('\\n')\n",
    "        genre_category = [genre for genre in genre]\n",
    "        for g in genre_category:\n",
    "            all_genre.append(g)\n",
    "\n",
    "        for genre_sub in genre_category:\n",
    "            driver.find_element_by_link_text(genre_sub).click()\n",
    "\n",
    "            try:\n",
    "                if driver.find_element_by_class_name(\"wrap_tabmenu_sub\"):\n",
    "                    sub_genre = driver.find_element_by_xpath('//*[@id=\"conts\"]/div[3]/ul').text.split('\\n')\n",
    "\n",
    "                    sub_genre = [sub_genre for sub_genre in sub_genre]\n",
    "                    for i in sub_genre:\n",
    "                        all_genre.append(i)\n",
    "            except:\n",
    "                continue\n",
    "\n",
    "        while \"세부장르전체\" in all_genre:\n",
    "            all_genre.remove('세부장르전체')\n",
    "\n",
    "    all_genre = list(set(all_genre))\n",
    "    print(all_genre)\n",
    "\n",
    "except Exception as e:\n",
    "    print(e)\n",
    "finally:\n",
    "    driver.quit()\n",
    "    print('driver.quit() 완료')"
   ]
  },
  {
   "cell_type": "code",
   "execution_count": 3,
   "id": "cognitive-greensboro",
   "metadata": {},
   "outputs": [],
   "source": [
    "column = ['장르']\n",
    "all_genre_df = pd.DataFrame(all_genre,columns=column)\n",
    "# all_genre_df.set_index('장르',inplace=True)\n",
    "all_genre_df.to_csv('allGenre.csv')"
   ]
  },
  {
   "cell_type": "markdown",
   "id": "protective-pressing",
   "metadata": {},
   "source": [
    "<h1>최신 곡</h1><br>\n",
    "여기서 이제 곡 추천해줄 예정"
   ]
  },
  {
   "cell_type": "code",
   "execution_count": 4,
   "id": "motivated-salmon",
   "metadata": {},
   "outputs": [],
   "source": [
    "# options = webdriver.ChromeOptions()\n",
    "# driver = webdriver.Chrome('./chromedriver')\n",
    "# driver.implicitly_wait(2)\n",
    "# driver.get('https://www.melon.com/')\n",
    "\n",
    "# try:\n",
    "#     driver.find_element_by_link_text('최신 음악').click()\n",
    "#     time.sleep(0.2)\n",
    "    \n",
    "#     html = driver.page_source\n",
    "#     soup = BeautifulSoup(html,'html.parser')\n",
    "    \n",
    "#     trs = soup.select('tr')\n",
    "#     d = {}\n",
    "    \n",
    "#     lsong_no = []\n",
    "#     lsong_title = []\n",
    "#     lsong_artist = []\n",
    "#     lsong_genre = []\n",
    "#     lsong_good = []\n",
    "    \n",
    "#     no = 0\n",
    "#     for i in range(1,5):\n",
    "#         for idx,tr in enumerate(trs[1:]):\n",
    "#             driver.find_element_by_xpath('//*[@id=\"frm\"]/div/table/tbody/tr[{}]/td[4]/div/a'.format(idx+1)).click()\n",
    "\n",
    "#             song_genre = driver.find_element_by_xpath('//*[@id=\"downloadfrm\"]/div/div/div[2]/div[2]/dl/dd[3]').text\n",
    "#             song_good = driver.find_element_by_id('d_like_count').text\n",
    "\n",
    "#             driver.back()\n",
    "\n",
    "#             song_title = tr.select('a')[2].text.strip()\n",
    "#             song_artist = tr.select('a')[3].text.strip()\n",
    "\n",
    "#             lsong_no.append(no+1)\n",
    "#             lsong_title.append(song_title)\n",
    "#             lsong_artist.append(song_artist)\n",
    "#             lsong_genre.append(song_genre)\n",
    "#             lsong_good.append(song_good)\n",
    "            \n",
    "#             no += 1\n",
    "            \n",
    "#         driver.find_element_by_xpath('//*[@id=\"pageObjNavgation\"]/div/span/a[{}]'.format(i)).click()\n",
    "#         time.sleep(0.5)\n",
    "    \n",
    "#     d['no']        = lsong_no\n",
    "#     d['title']     = lsong_title\n",
    "#     d['artist']    = lsong_artist\n",
    "#     d['genre']     = lsong_genre\n",
    "#     d['good']      = lsong_good\n",
    "\n",
    "#     column = ['no','title','artist','genre','good']\n",
    "#     df = pd.DataFrame(d,columns = column)\n",
    "#     df.set_index('no',inplace = True)\n",
    "\n",
    "# except Exception as e:\n",
    "#     print(e)\n",
    "# #     continue\n",
    "# finally:\n",
    "#     driver.quit()\n",
    "#     print('driver.quit() 완료')"
   ]
  },
  {
   "cell_type": "code",
   "execution_count": 5,
   "id": "organizational-olive",
   "metadata": {},
   "outputs": [],
   "source": [
    "# df"
   ]
  }
 ],
 "metadata": {
  "kernelspec": {
   "display_name": "melon",
   "language": "python",
   "name": "melon"
  },
  "language_info": {
   "codemirror_mode": {
    "name": "ipython",
    "version": 3
   },
   "file_extension": ".py",
   "mimetype": "text/x-python",
   "name": "python",
   "nbconvert_exporter": "python",
   "pygments_lexer": "ipython3",
   "version": "3.9.2"
  }
 },
 "nbformat": 4,
 "nbformat_minor": 5
}
