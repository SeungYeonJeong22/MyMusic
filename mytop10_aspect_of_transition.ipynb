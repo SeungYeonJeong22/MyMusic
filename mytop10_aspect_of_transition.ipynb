{
 "cells": [
  {
   "cell_type": "code",
   "execution_count": 1,
   "id": "adult-drink",
   "metadata": {},
   "outputs": [],
   "source": [
    "import pandas as pd\n",
    "import numpy as np\n",
    "import matplotlib.pyplot as plt\n",
    "import os"
   ]
  },
  {
   "cell_type": "markdown",
   "id": "western-subject",
   "metadata": {},
   "source": [
    "<h1>myTop10</h1>"
   ]
  },
  {
   "cell_type": "code",
   "execution_count": 4,
   "id": "harmful-hamburg",
   "metadata": {},
   "outputs": [
    {
     "ename": "IndentationError",
     "evalue": "expected an indented block (<ipython-input-4-642c37b1ddf0>, line 31)",
     "output_type": "error",
     "traceback": [
      "\u001b[1;36m  File \u001b[1;32m\"<ipython-input-4-642c37b1ddf0>\"\u001b[1;36m, line \u001b[1;32m31\u001b[0m\n\u001b[1;33m    try:\u001b[0m\n\u001b[1;37m    ^\u001b[0m\n\u001b[1;31mIndentationError\u001b[0m\u001b[1;31m:\u001b[0m expected an indented block\n"
     ]
    }
   ],
   "source": [
    "d = pd.read_csv('./myMusic.csv')\n",
    "d.sort_values('good',inplace = True,ascending = False)\n",
    "today_top10 = d[:10]\n",
    "print(today_top10)\n",
    "today_top10_title_list = list(today_top10['title'].values)\n",
    "show_graph_resource = pd.DataFrame()\n",
    "\n",
    "for csvF in os.listdir('./DayChart')[3:]:\n",
    "    try : \n",
    "        tmp = pd.read_csv('./DayChart/' + csvF)\n",
    "        tmp.insert(5,'date',csvF[:-4])\n",
    "        tmp.reset_index(inplace = True,drop=True)\n",
    "        tmp.set_index('date',inplace = True)\n",
    "        for today_top10_title in today_top10_title_list:\n",
    "            if today_top10_title in list(tmp['title'].values):\n",
    "                show_graph_resource = pd.concat([show_graph_resource,tmp[tmp['title'] == today_top10_title][['title','good']]])\n",
    "    except Exception as e:\n",
    "        print(e)\n",
    "\n",
    "plt.figure(figsize = (20,10))\n",
    "plt.rcParams['font.family'] = \"Malgun Gothic\"\n",
    "x = show_graph_resource.index.drop_duplicates().values\n",
    "\n",
    "i=0\n",
    "for label in show_graph_resource['title'].drop_duplicates().values:\n",
    "    globals()[\"label{}\".format(i)] = label\n",
    "    globals()[\"y{}\".format(i)] = np.divide(show_graph_resource[show_graph_resource['title'] == label]['good'].values,1000)\n",
    "    i+=1\n",
    "\n",
    "\"\".\n",
    "    \n",
    "for i in range(10):\n",
    "    try:\n",
    "        plt.plot()\n",
    "        plt.plot(x,y0,label=label0)\n",
    "        plt.plot(x,y1,label=label1)\n",
    "        plt.plot(x,y2,label=label2)\n",
    "        plt.plot(x,y3,label=label3)\n",
    "        plt.plot(x,y4,label=label4)\n",
    "        plt.plot(x,y5,label=label5)\n",
    "        plt.plot(x,y6,label=label6)\n",
    "        plt.plot(x,y7,label=label7)\n",
    "        plt.plot(x,y8,label=label8)\n",
    "        plt.plot(x,y9,label=label9)\n",
    "        \n",
    "    except:\n",
    "        pass\n",
    "plt.legend(loc='upper right')\n",
    "plt.show()"
   ]
  },
  {
   "cell_type": "markdown",
   "id": "upset-impossible",
   "metadata": {},
   "source": [
    "<h1>DayChart의 마지막 날에 해당하는 top 10 변화양상</h1>"
   ]
  },
  {
   "cell_type": "code",
   "execution_count": 2,
   "id": "looking-reservoir",
   "metadata": {},
   "outputs": [
    {
     "data": {
      "text/html": [
       "<div>\n",
       "<style scoped>\n",
       "    .dataframe tbody tr th:only-of-type {\n",
       "        vertical-align: middle;\n",
       "    }\n",
       "\n",
       "    .dataframe tbody tr th {\n",
       "        vertical-align: top;\n",
       "    }\n",
       "\n",
       "    .dataframe thead th {\n",
       "        text-align: right;\n",
       "    }\n",
       "</style>\n",
       "<table border=\"1\" class=\"dataframe\">\n",
       "  <thead>\n",
       "    <tr style=\"text-align: right;\">\n",
       "      <th></th>\n",
       "      <th>title</th>\n",
       "      <th>good</th>\n",
       "    </tr>\n",
       "    <tr>\n",
       "      <th>date</th>\n",
       "      <th></th>\n",
       "      <th></th>\n",
       "    </tr>\n",
       "  </thead>\n",
       "  <tbody>\n",
       "    <tr>\n",
       "      <th>20210723</th>\n",
       "      <td>봄날</td>\n",
       "      <td>544760</td>\n",
       "    </tr>\n",
       "    <tr>\n",
       "      <th>20210723</th>\n",
       "      <td>작은 것들을 위한 시 (Boy With Luv) (Feat. Halsey)</td>\n",
       "      <td>426268</td>\n",
       "    </tr>\n",
       "    <tr>\n",
       "      <th>20210723</th>\n",
       "      <td>Dynamite</td>\n",
       "      <td>418278</td>\n",
       "    </tr>\n",
       "    <tr>\n",
       "      <th>20210723</th>\n",
       "      <td>모든 날, 모든 순간 (Every day, Every Moment)</td>\n",
       "      <td>371709</td>\n",
       "    </tr>\n",
       "    <tr>\n",
       "      <th>20210723</th>\n",
       "      <td>2002</td>\n",
       "      <td>364647</td>\n",
       "    </tr>\n",
       "    <tr>\n",
       "      <th>...</th>\n",
       "      <td>...</td>\n",
       "      <td>...</td>\n",
       "    </tr>\n",
       "    <tr>\n",
       "      <th>20210807</th>\n",
       "      <td>에잇(Prod.&amp;Feat. SUGA of BTS)</td>\n",
       "      <td>364278</td>\n",
       "    </tr>\n",
       "    <tr>\n",
       "      <th>20210807</th>\n",
       "      <td>어떻게 이별까지 사랑하겠어, 널 사랑하는 거지</td>\n",
       "      <td>356615</td>\n",
       "    </tr>\n",
       "    <tr>\n",
       "      <th>20210807</th>\n",
       "      <td>Blueming</td>\n",
       "      <td>314129</td>\n",
       "    </tr>\n",
       "    <tr>\n",
       "      <th>20210807</th>\n",
       "      <td>Celebrity</td>\n",
       "      <td>294893</td>\n",
       "    </tr>\n",
       "    <tr>\n",
       "      <th>20210807</th>\n",
       "      <td>흔들리는 꽃들 속에서 네 샴푸향이 느껴진거야</td>\n",
       "      <td>291018</td>\n",
       "    </tr>\n",
       "  </tbody>\n",
       "</table>\n",
       "<p>70 rows × 2 columns</p>\n",
       "</div>"
      ],
      "text/plain": [
       "                                              title    good\n",
       "date                                                       \n",
       "20210723                                         봄날  544760\n",
       "20210723  작은 것들을 위한 시 (Boy With Luv) (Feat. Halsey)  426268\n",
       "20210723                                   Dynamite  418278\n",
       "20210723      모든 날, 모든 순간 (Every day, Every Moment)  371709\n",
       "20210723                                       2002  364647\n",
       "...                                             ...     ...\n",
       "20210807                에잇(Prod.&Feat. SUGA of BTS)  364278\n",
       "20210807                  어떻게 이별까지 사랑하겠어, 널 사랑하는 거지  356615\n",
       "20210807                                   Blueming  314129\n",
       "20210807                                  Celebrity  294893\n",
       "20210807                   흔들리는 꽃들 속에서 네 샴푸향이 느껴진거야  291018\n",
       "\n",
       "[70 rows x 2 columns]"
      ]
     },
     "execution_count": 2,
     "metadata": {},
     "output_type": "execute_result"
    }
   ],
   "source": [
    "d = pd.read_csv('./DayChart/' + os.listdir('./DayChart')[-1])\n",
    "d.sort_values('good',inplace = True,ascending = False)\n",
    "today_top10 = d[:10]\n",
    "today_top10_title_list = list(today_top10['title'].values)\n",
    "show_graph_resource = pd.DataFrame()\n",
    "\n",
    "for csvF in os.listdir('./DayChart')[3:]:\n",
    "    try : \n",
    "        tmp = pd.read_csv('./DayChart/' + csvF)\n",
    "        tmp.insert(5,'date',csvF[:-4])\n",
    "        tmp.reset_index(inplace = True,drop=True)\n",
    "        tmp.set_index('date',inplace = True)\n",
    "        for today_top10_title in today_top10_title_list:\n",
    "            if today_top10_title in list(tmp['title'].values):\n",
    "                show_graph_resource = pd.concat([show_graph_resource,tmp[tmp['title'] == today_top10_title][['title','good']]])\n",
    "    except Exception as e:\n",
    "        print(e)\n",
    "\n",
    "show_graph_resource"
   ]
  },
  {
   "cell_type": "code",
   "execution_count": 3,
   "id": "departmental-president",
   "metadata": {},
   "outputs": [
    {
     "data": {
      "image/png": "[encoded data removed]",
      "text/plain": [
       "<Figure size 1440x720 with 1 Axes>"
      ]
     },
     "metadata": {
      "needs_background": "light"
     },
     "output_type": "display_data"
    }
   ],
   "source": [
    "plt.figure(figsize = (20,10))\n",
    "plt.rcParams['font.family'] = \"Malgun Gothic\"\n",
    "x = show_graph_resource.index.drop_duplicates().values\n",
    "\n",
    "i=0\n",
    "for label in show_graph_resource['title'].drop_duplicates().values:\n",
    "    globals()[\"label{}\".format(i)] = label\n",
    "    globals()[\"y{}\".format(i)] = np.divide(show_graph_resource[show_graph_resource['title'] == label]['good'].values,1000)\n",
    "    i+=1\n",
    "i = 0\n",
    "\n",
    "plt.plot(x,y0,label=label0)\n",
    "plt.plot(x,y1,label=label1)\n",
    "plt.plot(x,y2,label=label2)\n",
    "plt.plot(x,y3,label=label3)\n",
    "plt.plot(x,y4,label=label4)\n",
    "plt.plot(x,y5,label=label5)\n",
    "plt.plot(x,y6,label=label6)\n",
    "plt.plot(x,y7,label=label7)\n",
    "plt.plot(x,y8,label=label8)\n",
    "plt.plot(x,y9,label=label9)\n",
    "plt.legend(loc='upper right')\n",
    "\n",
    "plt.show()"
   ]
  },
  {
   "cell_type": "code",
   "execution_count": null,
   "id": "hired-spiritual",
   "metadata": {},
   "outputs": [],
   "source": []
  }
 ],
 "metadata": {
  "kernelspec": {
   "display_name": "melon",
   "language": "python",
   "name": "melon"
  },
  "language_info": {
   "codemirror_mode": {
    "name": "ipython",
    "version": 3
   },
   "file_extension": ".py",
   "mimetype": "text/x-python",
   "name": "python",
   "nbconvert_exporter": "python",
   "pygments_lexer": "ipython3",
   "version": "3.9.2"
  }
 },
 "nbformat": 4,
 "nbformat_minor": 5
}
