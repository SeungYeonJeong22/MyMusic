{
 "cells": [
  {
   "cell_type": "code",
   "execution_count": 1,
   "id": "joined-scanner",
   "metadata": {},
   "outputs": [],
   "source": [
    "from datetime import datetime\n",
    "import pandas as pd\n",
    "import numpy as np\n",
    "import matplotlib.pyplot as plt\n",
    "import seaborn as sns\n",
    "import os\n",
    "import re"
   ]
  },
  {
   "cell_type": "markdown",
   "id": "twenty-bloom",
   "metadata": {},
   "source": [
    "<h1>Dataset Preprocessing</h1>\n",
    "<hr>\n",
    "<h2> - 유사 One-Hot-Encoding 준비"
   ]
  },
  {
   "cell_type": "code",
   "execution_count": 2,
   "id": "varying-founder",
   "metadata": {},
   "outputs": [
    {
     "name": "stdout",
     "output_type": "stream",
     "text": [
      "0                      국내영화\n",
      "1                       발라드\n",
      "2                       발라드\n",
      "3                     J-POP\n",
      "4                  댄스, 랩/힙합\n",
      "5                      록/메탈\n",
      "6                        댄스\n",
      "7                       발라드\n",
      "8                      랩/힙합\n",
      "9                     J-POP\n",
      "10                      발라드\n",
      "11                    J-POP\n",
      "12                발라드, 인디음악\n",
      "13                       댄스\n",
      "14                    J-POP\n",
      "15                   댄스, 게임\n",
      "16                       댄스\n",
      "17                발라드, 인디음악\n",
      "18                     록/메탈\n",
      "19                       게임\n",
      "20                     록/메탈\n",
      "21                      발라드\n",
      "22                      발라드\n",
      "23                     록/메탈\n",
      "24               랩/힙합, 인디음악\n",
      "25                      발라드\n",
      "26                      발라드\n",
      "27                       댄스\n",
      "28                       댄스\n",
      "29               랩/힙합, 인디음악\n",
      "30               발라드, 국내드라마\n",
      "31                 댄스, 랩/힙합\n",
      "32                      발라드\n",
      "33                      발라드\n",
      "34                     록/메탈\n",
      "35                      발라드\n",
      "36              록/메탈, 국내드라마\n",
      "37                      발라드\n",
      "38                    J-POP\n",
      "39                    J-POP\n",
      "40                      POP\n",
      "41    POP, 애니메이션/웹툰, 키즈, 만화\n",
      "42                 댄스, 랩/힙합\n",
      "43          애니메이션/웹툰, J-POP\n",
      "44               발라드, 국내드라마\n",
      "45                 R&B/Soul\n",
      "Name: genre, dtype: object\n",
      "0          국외영화\n",
      "1      J-Newage\n",
      "2            민요\n",
      "3             록\n",
      "4         국내뮤지컬\n",
      "         ...   \n",
      "111          샹송\n",
      "112        창작동요\n",
      "113        뉴에이지\n",
      "114        월드뮤직\n",
      "115       국외뮤지컬\n",
      "Name: 장르, Length: 116, dtype: object\n",
      "116\n"
     ]
    }
   ],
   "source": [
    "myMusic = pd.read_csv('./myMusic.csv')\n",
    "allGenre = pd.read_csv('./allGenre.csv')\n",
    "\n",
    "my_genre = myMusic['genre']\n",
    "all_genre = allGenre['장르']\n",
    "\n",
    "print(my_genre)\n",
    "print(all_genre)\n",
    "print(len(all_genre))\n",
    "genre_ohe = [[0 for _ in range(len(all_genre))] for _ in range(len(my_genre))]\n",
    "# genre_ohe"
   ]
  },
  {
   "cell_type": "markdown",
   "id": "raised-surrey",
   "metadata": {},
   "source": [
    "<h2> - 장르별 유사 One-Hot-Encoding</h2>\n",
    "<hr>발라드, 인디음악 -> 과 같이 여러개일 경우 해당하는 값에 모두 1처리하고 나중에 가중치를 다르게 매길 것이기 때문에 유사 One-Hot-Encoding"
   ]
  },
  {
   "cell_type": "code",
   "execution_count": 3,
   "id": "defined-banks",
   "metadata": {},
   "outputs": [
    {
     "name": "stdout",
     "output_type": "stream",
     "text": [
      "0 국내영화\n",
      "1 발라드\n",
      "2 발라드\n",
      "3 J-POP\n",
      "4 댄스, 랩/힙합\n",
      "5 록/메탈\n",
      "6 댄스\n",
      "7 발라드\n",
      "8 랩/힙합\n",
      "9 J-POP\n",
      "10 발라드\n",
      "11 J-POP\n",
      "12 발라드, 인디음악\n",
      "13 댄스\n",
      "14 J-POP\n",
      "Append New Genre :  게임\n",
      "15 댄스, 게임\n",
      "16 댄스\n",
      "17 발라드, 인디음악\n",
      "18 록/메탈\n",
      "Append New Genre :  게임\n",
      "19 게임\n",
      "20 록/메탈\n",
      "21 발라드\n",
      "22 발라드\n",
      "23 록/메탈\n",
      "24 랩/힙합, 인디음악\n",
      "25 발라드\n",
      "26 발라드\n",
      "27 댄스\n",
      "28 댄스\n",
      "29 랩/힙합, 인디음악\n",
      "30 발라드, 국내드라마\n",
      "31 댄스, 랩/힙합\n",
      "32 발라드\n",
      "33 발라드\n",
      "34 록/메탈\n",
      "35 발라드\n",
      "36 록/메탈, 국내드라마\n",
      "37 발라드\n",
      "38 J-POP\n",
      "39 J-POP\n",
      "40 POP\n",
      "Append New Genre :  애니메이션/웹툰\n",
      "Append New Genre :  키즈\n",
      "41 POP, 애니메이션/웹툰, 키즈, 만화\n",
      "42 댄스, 랩/힙합\n",
      "Append New Genre :  애니메이션/웹툰\n",
      "43 애니메이션/웹툰, J-POP\n",
      "44 발라드, 국내드라마\n",
      "45 R&B/Soul\n"
     ]
    },
    {
     "data": {
      "text/plain": [
       "116"
      ]
     },
     "execution_count": 3,
     "metadata": {},
     "output_type": "execute_result"
    }
   ],
   "source": [
    "for idx,gen in enumerate(my_genre):\n",
    "    l_gen = gen.split(', ')\n",
    "    if len(l_gen) > 1:\n",
    "        for t_gen in l_gen:\n",
    "            try : genre_ohe[idx][all_genre[all_genre == t_gen].index[0]] = 1\n",
    "            except :\n",
    "                with open('./allGenre.csv','a') as file:\n",
    "                    file.write('\\n'+idx+','+t_gen)\n",
    "                    print(\"Append New Genre : \",t_gen)\n",
    "                    genre_ohe.append(0)\n",
    "    else:\n",
    "        try : genre_ohe[idx][all_genre[all_genre == gen].index[0]] = 1\n",
    "        except :\n",
    "            with open('./allGenre.csv','a') as file:\n",
    "                file.write('\\n'+idx+','+gen)\n",
    "                print(\"Append New Genre : \",gen)\n",
    "                genre_ohe.append(0)\n",
    "                \n",
    "#     print(genre_ohe[idx],end='\\t')\n",
    "    print(idx,gen)\n",
    "len(all_genre)"
   ]
  },
  {
   "cell_type": "code",
   "execution_count": 4,
   "id": "pointed-heart",
   "metadata": {},
   "outputs": [],
   "source": [
    "sumArray = np.zeros(len(genre_ohe[0]))\n",
    "for i in genre_ohe:\n",
    "    sumArray += np.array(i)\n",
    "sumArray_myGenre = sumArray"
   ]
  },
  {
   "cell_type": "code",
   "execution_count": 5,
   "id": "loving-college",
   "metadata": {},
   "outputs": [
    {
     "name": "stdout",
     "output_type": "stream",
     "text": [
      "[-0.24164884 -0.24164884 -0.24164884 -0.24164884 -0.24164884 -0.24164884\n",
      " -0.24164884 -0.24164884 -0.24164884 -0.24164884 -0.24164884 -0.24164884\n",
      " -0.24164884 -0.24164884 -0.24164884 -0.24164884 -0.24164884 -0.24164884\n",
      " -0.24164884 -0.24164884 -0.24164884 -0.24164884 -0.24164884 -0.24164884\n",
      " -0.24164884 -0.24164884 -0.24164884 -0.24164884 -0.24164884 -0.24164884\n",
      " -0.24164884 -0.24164884  0.25890947 -0.24164884 -0.24164884 -0.24164884\n",
      " -0.24164884 -0.24164884 -0.24164884 -0.24164884 -0.24164884 -0.24164884\n",
      " -0.24164884 -0.24164884 -0.24164884 -0.24164884 -0.24164884  3.2622593\n",
      " -0.24164884 -0.24164884 -0.24164884 -0.24164884 -0.24164884 -0.24164884\n",
      " -0.24164884 -0.24164884 -0.24164884  1.26002608 -0.24164884 -0.24164884\n",
      " -0.24164884 -0.24164884 -0.24164884 -0.24164884 -0.24164884 -0.24164884\n",
      " -0.24164884 -0.24164884 -0.24164884  0.25890947  0.25890947 -0.24164884\n",
      " -0.24164884 -0.24164884 -0.24164884 -0.24164884 -0.24164884 -0.24164884\n",
      " -0.24164884 -0.24164884 -0.24164884 -0.24164884 -0.24164884 -0.24164884\n",
      " -0.24164884 -0.24164884 -0.24164884  2.761701   -0.24164884 -0.24164884\n",
      "  7.76728406  1.76058439 -0.24164884 -0.24164884 -0.24164884 -0.24164884\n",
      "  0.75946777 -0.24164884 -0.24164884  4.26337592 -0.24164884 -0.24164884\n",
      " -0.24164884 -0.24164884 -0.24164884 -0.24164884  2.761701   -0.24164884\n",
      " -0.24164884 -0.24164884 -0.24164884 -0.24164884 -0.24164884 -0.24164884\n",
      " -0.24164884 -0.24164884]\n"
     ]
    }
   ],
   "source": [
    "my_preference = (sumArray - np.mean(sumArray,axis = 0))/ np.std(sumArray,axis = 0)\n",
    "print(my_preference)"
   ]
  },
  {
   "cell_type": "code",
   "execution_count": 6,
   "id": "neural-overview",
   "metadata": {},
   "outputs": [
    {
     "name": "stdout",
     "output_type": "stream",
     "text": [
      "[0.     0.     0.     0.     0.     0.     0.     0.     0.     0.\n",
      " 0.     0.     0.     0.     0.     0.     0.     0.     0.     0.\n",
      " 0.     0.     0.     0.     0.     0.     0.     0.     0.     0.\n",
      " 0.     0.     0.0625 0.     0.     0.     0.     0.     0.     0.\n",
      " 0.     0.     0.     0.     0.     0.     0.     0.4375 0.     0.\n",
      " 0.     0.     0.     0.     0.     0.     0.     0.1875 0.     0.\n",
      " 0.     0.     0.     0.     0.     0.     0.     0.     0.     0.0625\n",
      " 0.0625 0.     0.     0.     0.     0.     0.     0.     0.     0.\n",
      " 0.     0.     0.     0.     0.     0.     0.     0.375  0.     0.\n",
      " 1.     0.25   0.     0.     0.     0.     0.125  0.     0.     0.5625\n",
      " 0.     0.     0.     0.     0.     0.     0.375  0.     0.     0.\n",
      " 0.     0.     0.     0.     0.     0.    ]\n"
     ]
    }
   ],
   "source": [
    "my_preference = (sumArray - np.min(sumArray,axis = 0)) / (np.max(sumArray,axis = 0) - np.min(sumArray,axis = 0))\n",
    "print(my_preference)"
   ]
  },
  {
   "cell_type": "code",
   "execution_count": 7,
   "id": "certified-velvet",
   "metadata": {},
   "outputs": [
    {
     "name": "stdout",
     "output_type": "stream",
     "text": [
      "{'러브홀릭스': 1, '럼블피쉬': 1, '허각': 1, 'Official Hige Dandism': 1, 'BIGBANG': 6, '이무진': 1, '안예은': 1, '정동하': 1, 'G-DRAGON': 1, 'Aimyon': 5, '장덕철': 3, '아이유': 2, '신지': 1, '우주소녀': 1, '유승우': 1, 'FTISLAND (FT아일랜드)': 1, '박세아': 1, '코요태': 1, '태연 (TAEYEON)': 1, '김종서': 1, 'July': 2, '경서': 1, '성시경': 1, '거미': 1, '장범준': 2, '백지영, 이홍기 (FT아일랜드)': 1, 'MSG워너비(정상동기)': 1, \"Ghost Town DJ's\": 2, 'Mandy Moore, Zachary Levi': 1, 'Every Little Thing': 1, '조수미': 1}\n"
     ]
    }
   ],
   "source": [
    "def genre_cnt(genre):\n",
    "    genre = genre.to_dict()\n",
    "    new_dict = {}\n",
    "    for gen in genre.values():\n",
    "        try : new_dict[gen] += 1\n",
    "        except : new_dict[gen] = 1\n",
    "    return new_dict\n",
    "    \n",
    "def art_cnt(artist):\n",
    "    artist = artist.to_dict()\n",
    "    new_dict = {}\n",
    "    for art in artist.values():\n",
    "        try : new_dict[art] += 1\n",
    "        except : new_dict[art] = 1\n",
    "    return new_dict\n",
    "\n",
    "my_artist = myMusic['artist']\n",
    "my_artist = art_cnt(my_artist)\n",
    "print(my_artist)\n",
    "\n",
    "# artist_ohe = [[0 for _ in range(len(my_artist))]for _ in range(len(my_artist))]\n",
    "\n",
    "# for idx,art in enumerate(my_artist):\n",
    "#     artist_ohe[idx][idx] = my_artist[art]\n",
    "\n",
    "# artist_ohe"
   ]
  },
  {
   "cell_type": "code",
   "execution_count": 8,
   "id": "preliminary-eating",
   "metadata": {},
   "outputs": [
    {
     "data": {
      "image/png": "[encoded data removed]",
      "text/plain": [
       "<Figure size 504x504 with 1 Axes>"
      ]
     },
     "metadata": {},
     "output_type": "display_data"
    }
   ],
   "source": [
    "plt.rcParams['font.family'] = \"Malgun Gothic\"\n",
    "plt.figure(figsize = (7,7))\n",
    "genreCnt = {}\n",
    "\n",
    "for g in myMusic['genre']:\n",
    "    try : genreCnt[g] += 1\n",
    "    except : genreCnt[g] = 0\n",
    "      \n",
    "    \n",
    "labels = list(genreCnt.keys())\n",
    "ratio = list(genreCnt.values())\n",
    "explode = [ratio[i] * 0.01 for i in range(len(labels))]\n",
    "for i,v in enumerate(explode):\n",
    "    if v >= np.mean(ratio)*0.01:\n",
    "        explode[i] = 0.1\n",
    "\n",
    "plt.pie(ratio, labels=labels, autopct='%.1f%%', startangle=0, counterclock=False, explode = explode)\n",
    "plt.title('My Music Genre',fontsize = 20)\n",
    "plt.show()"
   ]
  },
  {
   "cell_type": "markdown",
   "id": "amended-liberty",
   "metadata": {},
   "source": [
    "<h1>cor DayChart</h1>"
   ]
  },
  {
   "cell_type": "code",
   "execution_count": 9,
   "id": "underlying-germany",
   "metadata": {},
   "outputs": [
    {
     "name": "stdout",
     "output_type": "stream",
     "text": [
      "['20210720.csv', '20210722.csv']\n",
      "원하는 날짜 입력 (ex:20210720): 20210722\n",
      "     no                title         artist genre\n",
      "0     1               바라만 본다  MSG워너비(M.O.M)   발라드\n",
      "1     2           Next Level          aespa    댄스\n",
      "2     3                  신호등            이무진  록/메탈\n",
      "3     4  Permission to Dance          방탄소년단    댄스\n",
      "4     5               Butter          방탄소년단    댄스\n",
      "..  ...                  ...            ...   ...\n",
      "95   96      Don't Start Now       Dua Lipa   POP\n",
      "96   97                너를 만나             폴킴   발라드\n",
      "97   98            Love poem            아이유  록/메탈\n",
      "98   99        오늘따라 더 미운 그대가            전상근   발라드\n",
      "99  100     잡아줄게 (Carabiner)     ASH ISLAND  랩/힙합\n",
      "\n",
      "[100 rows x 4 columns]\n"
     ]
    }
   ],
   "source": [
    "if 'DayChart' in os.listdir():\n",
    "    try:\n",
    "        dayChart = os.listdir('DayChart')\n",
    "        print(dayChart[1:])\n",
    "        \n",
    "        #사용자로부터 파일 날짜 입력 받기\n",
    "        input_dayChart = input(\"원하는 날짜 입력 (ex:20210720): \")\n",
    "        match = re.search(r'\\d{4}\\d{2}\\d{2}', input_dayChart)\n",
    "        date = datetime.strptime(match.group(), '%Y%m%d').date()\n",
    "        year = '{:=04}'.format(date.year)\n",
    "        month = '{:=02}'.format(date.month)\n",
    "        day = '{:=02}'.format(date.day)\n",
    "        \n",
    "        dayListF = year+month+day+'.csv'\n",
    "        dayList = pd.read_csv('./DayChart/'+dayListF)\n",
    "        \n",
    "        print(dayList)\n",
    "\n",
    "    except Exception as e:\n",
    "        print(e)\n",
    "else:\n",
    "    pass"
   ]
  },
  {
   "cell_type": "code",
   "execution_count": 10,
   "id": "conceptual-maple",
   "metadata": {},
   "outputs": [
    {
     "ename": "IndexError",
     "evalue": "index 0 is out of bounds for axis 0 with size 0",
     "output_type": "error",
     "traceback": [
      "\u001b[1;31m---------------------------------------------------------------------------\u001b[0m",
      "\u001b[1;31mIndexError\u001b[0m                                Traceback (most recent call last)",
      "\u001b[1;32m<ipython-input-10-d60419e90f0c>\u001b[0m in \u001b[0;36m<module>\u001b[1;34m\u001b[0m\n\u001b[0;32m      7\u001b[0m             \u001b[0mgenre_ohe\u001b[0m\u001b[1;33m[\u001b[0m\u001b[0midx\u001b[0m\u001b[1;33m]\u001b[0m\u001b[1;33m[\u001b[0m\u001b[0mall_genre\u001b[0m\u001b[1;33m[\u001b[0m\u001b[0mall_genre\u001b[0m \u001b[1;33m==\u001b[0m \u001b[0mt_gen\u001b[0m\u001b[1;33m]\u001b[0m\u001b[1;33m.\u001b[0m\u001b[0mindex\u001b[0m\u001b[1;33m[\u001b[0m\u001b[1;36m0\u001b[0m\u001b[1;33m]\u001b[0m\u001b[1;33m]\u001b[0m \u001b[1;33m=\u001b[0m \u001b[1;36m1\u001b[0m\u001b[1;33m\u001b[0m\u001b[1;33m\u001b[0m\u001b[0m\n\u001b[0;32m      8\u001b[0m     \u001b[1;32melse\u001b[0m\u001b[1;33m:\u001b[0m\u001b[1;33m\u001b[0m\u001b[1;33m\u001b[0m\u001b[0m\n\u001b[1;32m----> 9\u001b[1;33m         \u001b[0mgenre_ohe\u001b[0m\u001b[1;33m[\u001b[0m\u001b[0midx\u001b[0m\u001b[1;33m]\u001b[0m\u001b[1;33m[\u001b[0m\u001b[0mall_genre\u001b[0m\u001b[1;33m[\u001b[0m\u001b[0mall_genre\u001b[0m \u001b[1;33m==\u001b[0m \u001b[0mgen\u001b[0m\u001b[1;33m]\u001b[0m\u001b[1;33m.\u001b[0m\u001b[0mindex\u001b[0m\u001b[1;33m[\u001b[0m\u001b[1;36m0\u001b[0m\u001b[1;33m]\u001b[0m\u001b[1;33m]\u001b[0m \u001b[1;33m=\u001b[0m \u001b[1;36m1\u001b[0m\u001b[1;33m\u001b[0m\u001b[1;33m\u001b[0m\u001b[0m\n\u001b[0m\u001b[0;32m     10\u001b[0m \u001b[1;33m\u001b[0m\u001b[0m\n\u001b[0;32m     11\u001b[0m \u001b[0msumArray\u001b[0m \u001b[1;33m=\u001b[0m \u001b[0mnp\u001b[0m\u001b[1;33m.\u001b[0m\u001b[0mzeros\u001b[0m\u001b[1;33m(\u001b[0m\u001b[0mlen\u001b[0m\u001b[1;33m(\u001b[0m\u001b[0mgenre_ohe\u001b[0m\u001b[1;33m[\u001b[0m\u001b[1;36m0\u001b[0m\u001b[1;33m]\u001b[0m\u001b[1;33m)\u001b[0m\u001b[1;33m)\u001b[0m\u001b[1;33m\u001b[0m\u001b[1;33m\u001b[0m\u001b[0m\n",
      "\u001b[1;32m~\\AppData\\Local\\Programs\\Python\\Python39\\lib\\site-packages\\pandas\\core\\indexes\\base.py\u001b[0m in \u001b[0;36m__getitem__\u001b[1;34m(self, key)\u001b[0m\n\u001b[0;32m   4295\u001b[0m         \u001b[1;32mif\u001b[0m \u001b[0mis_scalar\u001b[0m\u001b[1;33m(\u001b[0m\u001b[0mkey\u001b[0m\u001b[1;33m)\u001b[0m\u001b[1;33m:\u001b[0m\u001b[1;33m\u001b[0m\u001b[1;33m\u001b[0m\u001b[0m\n\u001b[0;32m   4296\u001b[0m             \u001b[0mkey\u001b[0m \u001b[1;33m=\u001b[0m \u001b[0mcom\u001b[0m\u001b[1;33m.\u001b[0m\u001b[0mcast_scalar_indexer\u001b[0m\u001b[1;33m(\u001b[0m\u001b[0mkey\u001b[0m\u001b[1;33m,\u001b[0m \u001b[0mwarn_float\u001b[0m\u001b[1;33m=\u001b[0m\u001b[1;32mTrue\u001b[0m\u001b[1;33m)\u001b[0m\u001b[1;33m\u001b[0m\u001b[1;33m\u001b[0m\u001b[0m\n\u001b[1;32m-> 4297\u001b[1;33m             \u001b[1;32mreturn\u001b[0m \u001b[0mgetitem\u001b[0m\u001b[1;33m(\u001b[0m\u001b[0mkey\u001b[0m\u001b[1;33m)\u001b[0m\u001b[1;33m\u001b[0m\u001b[1;33m\u001b[0m\u001b[0m\n\u001b[0m\u001b[0;32m   4298\u001b[0m \u001b[1;33m\u001b[0m\u001b[0m\n\u001b[0;32m   4299\u001b[0m         \u001b[1;32mif\u001b[0m \u001b[0misinstance\u001b[0m\u001b[1;33m(\u001b[0m\u001b[0mkey\u001b[0m\u001b[1;33m,\u001b[0m \u001b[0mslice\u001b[0m\u001b[1;33m)\u001b[0m\u001b[1;33m:\u001b[0m\u001b[1;33m\u001b[0m\u001b[1;33m\u001b[0m\u001b[0m\n",
      "\u001b[1;31mIndexError\u001b[0m: index 0 is out of bounds for axis 0 with size 0"
     ]
    }
   ],
   "source": [
    "# dayListGenre = dayList['genre']\n",
    "# genre_ohe = [[0 for _ in range(len(all_genre))] for _ in range(len(dayListGenre))]\n",
    "# for idx,gen in enumerate(dayListGenre):\n",
    "#     l_gen = gen.split(', ')\n",
    "#     if len(l_gen) > 1:\n",
    "#         for t_gen in l_gen:\n",
    "#             genre_ohe[idx][all_genre[all_genre == t_gen].index[0]] = 1\n",
    "#     else:\n",
    "#         genre_ohe[idx][all_genre[all_genre == gen].index[0]] = 1\n",
    "\n",
    "# sumArray = np.zeros(len(genre_ohe[0]))\n",
    "# for i in genre_ohe:\n",
    "#     sumArray += np.array(i)\n",
    "# sumArray_dayListGenre = sumArray"
   ]
  },
  {
   "cell_type": "code",
   "execution_count": 11,
   "id": "level-pixel",
   "metadata": {},
   "outputs": [
    {
     "data": {
      "image/png": "[encoded data removed]",
      "text/plain": [
       "<Figure size 720x1080 with 1 Axes>"
      ]
     },
     "metadata": {},
     "output_type": "display_data"
    }
   ],
   "source": [
    "plt.rcParams['font.family'] = \"Malgun Gothic\"\n",
    "plt.figure(figsize = (10,15))\n",
    "genreCnt = {}\n",
    "\n",
    "for g in dayListGenre:\n",
    "    try : genreCnt[g] += 1\n",
    "    except : genreCnt[g] = 0\n",
    "      \n",
    "labels = list(genreCnt.keys())\n",
    "ratio = list(genreCnt.values())\n",
    "explode = [ratio[i] * 0.01 for i in range(len(labels))]\n",
    "for i,v in enumerate(explode):\n",
    "    if v >= np.mean(ratio)*0.01:\n",
    "        explode[i] = 0.1\n",
    "\n",
    "#제목        \n",
    "day_title = []\n",
    "for i,t in enumerate(input_dayChart):\n",
    "    if i == 4 or i == 6:\n",
    "        day_title.append('-')\n",
    "    day_title.append(t)\n",
    "day_title = \"\".join(day_title)        \n",
    "        \n",
    "plt.pie(ratio, labels=labels, autopct='%.1f%%', startangle=0, counterclock=False, explode = explode)\n",
    "plt.title(day_title,fontsize=20)\n",
    "plt.show()"
   ]
  },
  {
   "cell_type": "markdown",
   "id": "typical-aggregate",
   "metadata": {},
   "source": [
    "<h1>DayList 장르 개수</h1>"
   ]
  },
  {
   "cell_type": "code",
   "execution_count": 12,
   "id": "authentic-enterprise",
   "metadata": {},
   "outputs": [
    {
     "data": {
      "text/html": [
       "<div>\n",
       "<style scoped>\n",
       "    .dataframe tbody tr th:only-of-type {\n",
       "        vertical-align: middle;\n",
       "    }\n",
       "\n",
       "    .dataframe tbody tr th {\n",
       "        vertical-align: top;\n",
       "    }\n",
       "\n",
       "    .dataframe thead th {\n",
       "        text-align: right;\n",
       "    }\n",
       "</style>\n",
       "<table border=\"1\" class=\"dataframe\">\n",
       "  <thead>\n",
       "    <tr style=\"text-align: right;\">\n",
       "      <th></th>\n",
       "      <th>R&amp;B/Soul</th>\n",
       "      <th>록/메탈</th>\n",
       "      <th>발라드</th>\n",
       "      <th>POP</th>\n",
       "      <th>댄스</th>\n",
       "      <th>일렉트로니카</th>\n",
       "      <th>랩/힙합</th>\n",
       "    </tr>\n",
       "  </thead>\n",
       "  <tbody>\n",
       "    <tr>\n",
       "      <th>0</th>\n",
       "      <td>3</td>\n",
       "      <td>5</td>\n",
       "      <td>22</td>\n",
       "      <td>10</td>\n",
       "      <td>10</td>\n",
       "      <td>1</td>\n",
       "      <td>9</td>\n",
       "    </tr>\n",
       "  </tbody>\n",
       "</table>\n",
       "</div>"
      ],
      "text/plain": [
       "   R&B/Soul  록/메탈  발라드  POP  댄스  일렉트로니카  랩/힙합\n",
       "0         3     5   22   10  10       1     9"
      ]
     },
     "execution_count": 12,
     "metadata": {},
     "output_type": "execute_result"
    }
   ],
   "source": [
    "dayListGenreCnt = genre_cnt(dayListGenre)\n",
    "dayListGenreCnt\n",
    "columns = list(all_genre.values)\n",
    "dayListGenreCnt = pd.DataFrame(dayListGenreCnt,columns=columns,index=[0]).dropna(axis=1)\n",
    "dayListGenreCnt"
   ]
  },
  {
   "cell_type": "code",
   "execution_count": 13,
   "id": "unlike-yukon",
   "metadata": {},
   "outputs": [
    {
     "name": "stdout",
     "output_type": "stream",
     "text": [
      "{'국내영화': 1, '발라드': 12, 'J-POP': 6, '댄스, 랩/힙합': 3, '록/메탈': 5, '댄스': 5, '랩/힙합': 1, '발라드, 인디음악': 2, '댄스, 게임': 1, '게임': 1, '랩/힙합, 인디음악': 2, '발라드, 국내드라마': 2, '록/메탈, 국내드라마': 1, 'POP': 1, 'POP, 애니메이션/웹툰, 키즈, 만화': 1, '애니메이션/웹툰, J-POP': 1, 'R&B/Soul': 1}\n"
     ]
    },
    {
     "data": {
      "text/html": [
       "<div>\n",
       "<style scoped>\n",
       "    .dataframe tbody tr th:only-of-type {\n",
       "        vertical-align: middle;\n",
       "    }\n",
       "\n",
       "    .dataframe tbody tr th {\n",
       "        vertical-align: top;\n",
       "    }\n",
       "\n",
       "    .dataframe thead th {\n",
       "        text-align: right;\n",
       "    }\n",
       "</style>\n",
       "<table border=\"1\" class=\"dataframe\">\n",
       "  <thead>\n",
       "    <tr style=\"text-align: right;\">\n",
       "      <th></th>\n",
       "      <th>J-POP</th>\n",
       "      <th>R&amp;B/Soul</th>\n",
       "      <th>국내영화</th>\n",
       "      <th>록/메탈</th>\n",
       "      <th>발라드</th>\n",
       "      <th>POP</th>\n",
       "      <th>댄스</th>\n",
       "      <th>랩/힙합</th>\n",
       "    </tr>\n",
       "  </thead>\n",
       "  <tbody>\n",
       "    <tr>\n",
       "      <th>0</th>\n",
       "      <td>6</td>\n",
       "      <td>1</td>\n",
       "      <td>1</td>\n",
       "      <td>5</td>\n",
       "      <td>12</td>\n",
       "      <td>1</td>\n",
       "      <td>5</td>\n",
       "      <td>1</td>\n",
       "    </tr>\n",
       "  </tbody>\n",
       "</table>\n",
       "</div>"
      ],
      "text/plain": [
       "   J-POP  R&B/Soul  국내영화  록/메탈  발라드  POP  댄스  랩/힙합\n",
       "0      6         1     1     5   12    1   5     1"
      ]
     },
     "execution_count": 13,
     "metadata": {},
     "output_type": "execute_result"
    }
   ],
   "source": [
    "myGenreCnt = genre_cnt(my_genre)\n",
    "print(myGenreCnt)\n",
    "columns = list(all_genre.values)\n",
    "myGenreCnt = pd.DataFrame(myGenreCnt,columns=columns,index=[0]).dropna(axis = 1)\n",
    "myGenreCnt"
   ]
  },
  {
   "cell_type": "code",
   "execution_count": 14,
   "id": "substantial-department",
   "metadata": {},
   "outputs": [
    {
     "data": {
      "text/html": [
       "<div>\n",
       "<style scoped>\n",
       "    .dataframe tbody tr th:only-of-type {\n",
       "        vertical-align: middle;\n",
       "    }\n",
       "\n",
       "    .dataframe tbody tr th {\n",
       "        vertical-align: top;\n",
       "    }\n",
       "\n",
       "    .dataframe thead th {\n",
       "        text-align: right;\n",
       "    }\n",
       "</style>\n",
       "<table border=\"1\" class=\"dataframe\">\n",
       "  <thead>\n",
       "    <tr style=\"text-align: right;\">\n",
       "      <th></th>\n",
       "      <th>POP</th>\n",
       "      <th>R&amp;B/Soul</th>\n",
       "      <th>댄스</th>\n",
       "      <th>랩/힙합</th>\n",
       "      <th>록/메탈</th>\n",
       "      <th>발라드</th>\n",
       "    </tr>\n",
       "  </thead>\n",
       "  <tbody>\n",
       "    <tr>\n",
       "      <th>0</th>\n",
       "      <td>0.1</td>\n",
       "      <td>0.33</td>\n",
       "      <td>0.5</td>\n",
       "      <td>0.11</td>\n",
       "      <td>1.0</td>\n",
       "      <td>0.55</td>\n",
       "    </tr>\n",
       "  </tbody>\n",
       "</table>\n",
       "</div>"
      ],
      "text/plain": [
       "   POP  R&B/Soul   댄스  랩/힙합  록/메탈   발라드\n",
       "0  0.1      0.33  0.5  0.11   1.0  0.55"
      ]
     },
     "execution_count": 14,
     "metadata": {},
     "output_type": "execute_result"
    }
   ],
   "source": [
    "corrGenre = pd.DataFrame(round(myGenreCnt/dayListGenreCnt,2))\n",
    "corrGenre = corrGenre.dropna(axis = 1)\n",
    "corrGenre"
   ]
  },
  {
   "cell_type": "code",
   "execution_count": 15,
   "id": "packed-horse",
   "metadata": {},
   "outputs": [
    {
     "data": {
      "text/plain": [
       "Index(['J-POP', 'R&B/Soul', '국내영화', '록/메탈', '발라드', 'POP', '댄스', '랩/힙합'], dtype='object')"
      ]
     },
     "execution_count": 15,
     "metadata": {},
     "output_type": "execute_result"
    }
   ],
   "source": [
    "myGenreCnt.keys()"
   ]
  },
  {
   "cell_type": "code",
   "execution_count": null,
   "id": "outstanding-cuisine",
   "metadata": {},
   "outputs": [],
   "source": [
    "len(my_genre)"
   ]
  },
  {
   "cell_type": "code",
   "execution_count": null,
   "id": "biological-behalf",
   "metadata": {},
   "outputs": [],
   "source": []
  }
 ],
 "metadata": {
  "kernelspec": {
   "display_name": "melon",
   "language": "python",
   "name": "melon"
  },
  "language_info": {
   "codemirror_mode": {
    "name": "ipython",
    "version": 3
   },
   "file_extension": ".py",
   "mimetype": "text/x-python",
   "name": "python",
   "nbconvert_exporter": "python",
   "pygments_lexer": "ipython3",
   "version": "3.9.2"
  }
 },
 "nbformat": 4,
 "nbformat_minor": 5
}
