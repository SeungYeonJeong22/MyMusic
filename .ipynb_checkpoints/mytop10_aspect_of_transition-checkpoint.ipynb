{
 "cells": [
  {
   "cell_type": "code",
   "execution_count": 1,
   "id": "adult-drink",
   "metadata": {},
   "outputs": [],
   "source": [
    "import pandas as pd\n",
    "import numpy as np\n",
    "import matplotlib.pyplot as plt\n",
    "import os"
   ]
  },
  {
   "cell_type": "code",
   "execution_count": 83,
   "id": "occupied-syracuse",
   "metadata": {},
   "outputs": [
    {
     "data": {
      "text/html": [
       "<div>\n",
       "<style scoped>\n",
       "    .dataframe tbody tr th:only-of-type {\n",
       "        vertical-align: middle;\n",
       "    }\n",
       "\n",
       "    .dataframe tbody tr th {\n",
       "        vertical-align: top;\n",
       "    }\n",
       "\n",
       "    .dataframe thead th {\n",
       "        text-align: right;\n",
       "    }\n",
       "</style>\n",
       "<table border=\"1\" class=\"dataframe\">\n",
       "  <thead>\n",
       "    <tr style=\"text-align: right;\">\n",
       "      <th></th>\n",
       "      <th></th>\n",
       "      <th>no</th>\n",
       "      <th>title</th>\n",
       "      <th>artist</th>\n",
       "      <th>genre</th>\n",
       "      <th>good</th>\n",
       "    </tr>\n",
       "  </thead>\n",
       "  <tbody>\n",
       "    <tr>\n",
       "      <th>csv_data20210724</th>\n",
       "      <th>0</th>\n",
       "      <td>1</td>\n",
       "      <td>바라만 본다</td>\n",
       "      <td>MSG워너비(M.O.M)</td>\n",
       "      <td>발라드</td>\n",
       "      <td>121640</td>\n",
       "    </tr>\n",
       "    <tr>\n",
       "      <th>csv_data20210728</th>\n",
       "      <th>0</th>\n",
       "      <td>1</td>\n",
       "      <td>바라만 본다</td>\n",
       "      <td>MSG워너비(M.O.M)</td>\n",
       "      <td>발라드</td>\n",
       "      <td>126116</td>\n",
       "    </tr>\n",
       "  </tbody>\n",
       "</table>\n",
       "</div>"
      ],
      "text/plain": [
       "                    no   title         artist genre    good\n",
       "csv_data20210724 0   1  바라만 본다  MSG워너비(M.O.M)   발라드  121640\n",
       "csv_data20210728 0   1  바라만 본다  MSG워너비(M.O.M)   발라드  126116"
      ]
     },
     "execution_count": 83,
     "metadata": {},
     "output_type": "execute_result"
    }
   ],
   "source": [
    "csv_dict = {}\n",
    "for csvF in os.listdir('./DayChart')[3:]:\n",
    "    try : csv_dict['csv_data{}'.format(csvF[:-4])] = pd.read_csv('./DayChart/' + csvF)\n",
    "    except : continue\n",
    "\n",
    "inner_join = pd.concat(csv_dict, join='inner')\n",
    "\n",
    "dup_data = inner_join.duplicated(['title','artist','genre'])\n",
    "res = inner_join[dup_data == True]\n",
    "# for nm in res:\n",
    "#     print(nm)\n",
    "res[res['title'] == '바라만 본다']"
   ]
  },
  {
   "cell_type": "code",
   "execution_count": 89,
   "id": "productive-barbados",
   "metadata": {},
   "outputs": [
    {
     "data": {
      "text/html": [
       "<div>\n",
       "<style scoped>\n",
       "    .dataframe tbody tr th:only-of-type {\n",
       "        vertical-align: middle;\n",
       "    }\n",
       "\n",
       "    .dataframe tbody tr th {\n",
       "        vertical-align: top;\n",
       "    }\n",
       "\n",
       "    .dataframe thead th {\n",
       "        text-align: right;\n",
       "    }\n",
       "</style>\n",
       "<table border=\"1\" class=\"dataframe\">\n",
       "  <thead>\n",
       "    <tr style=\"text-align: right;\">\n",
       "      <th></th>\n",
       "      <th></th>\n",
       "      <th>title</th>\n",
       "      <th>artist</th>\n",
       "      <th>genre</th>\n",
       "      <th>good</th>\n",
       "    </tr>\n",
       "    <tr>\n",
       "      <th></th>\n",
       "      <th>no</th>\n",
       "      <th></th>\n",
       "      <th></th>\n",
       "      <th></th>\n",
       "      <th></th>\n",
       "    </tr>\n",
       "  </thead>\n",
       "  <tbody>\n",
       "    <tr>\n",
       "      <th>csv_data20210724</th>\n",
       "      <th>1</th>\n",
       "      <td>바라만 본다</td>\n",
       "      <td>MSG워너비(M.O.M)</td>\n",
       "      <td>발라드</td>\n",
       "      <td>121640</td>\n",
       "    </tr>\n",
       "    <tr>\n",
       "      <th>csv_data20210728</th>\n",
       "      <th>1</th>\n",
       "      <td>바라만 본다</td>\n",
       "      <td>MSG워너비(M.O.M)</td>\n",
       "      <td>발라드</td>\n",
       "      <td>126116</td>\n",
       "    </tr>\n",
       "  </tbody>\n",
       "</table>\n",
       "</div>"
      ],
      "text/plain": [
       "                      title         artist genre    good\n",
       "                 no                                     \n",
       "csv_data20210724 1   바라만 본다  MSG워너비(M.O.M)   발라드  121640\n",
       "csv_data20210728 1   바라만 본다  MSG워너비(M.O.M)   발라드  126116"
      ]
     },
     "execution_count": 89,
     "metadata": {},
     "output_type": "execute_result"
    }
   ],
   "source": [
    "csv_dict = {}\n",
    "for csvF in os.listdir('./DayChart')[3:]:\n",
    "    try : \n",
    "        tmp = pd.read_csv('./DayChart/' + csvF)\n",
    "        tmp.reset_index(inplace = True,drop=True)\n",
    "        tmp.set_index('no',inplace = True)\n",
    "        csv_dict['csv_data{}'.format(csvF[:-4])] = tmp\n",
    "    except : continue\n",
    "\n",
    "inner_join = pd.concat(csv_dict, join='inner',ignore_index=False)\n",
    "\n",
    "dup_data = inner_join.duplicated(['title','artist','genre'])\n",
    "res = inner_join[dup_data == True]\n",
    "# for nm in res:\n",
    "#     print(nm)\n",
    "res[res['title'] == '바라만 본다']\n",
    "\n"
   ]
  },
  {
   "cell_type": "code",
   "execution_count": null,
   "id": "rational-witness",
   "metadata": {},
   "outputs": [],
   "source": []
  }
 ],
 "metadata": {
  "kernelspec": {
   "display_name": "melon",
   "language": "python",
   "name": "melon"
  },
  "language_info": {
   "codemirror_mode": {
    "name": "ipython",
    "version": 3
   },
   "file_extension": ".py",
   "mimetype": "text/x-python",
   "name": "python",
   "nbconvert_exporter": "python",
   "pygments_lexer": "ipython3",
   "version": "3.9.2"
  }
 },
 "nbformat": 4,
 "nbformat_minor": 5
}
